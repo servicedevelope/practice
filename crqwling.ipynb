{
 "cells": [
  {
   "cell_type": "code",
   "execution_count": 3,
   "metadata": {},
   "outputs": [],
   "source": [
    "import requests"
   ]
  },
  {
   "cell_type": "code",
   "execution_count": 2,
   "metadata": {},
   "outputs": [
    {
     "name": "stdout",
     "output_type": "stream",
     "text": [
      "Collecting requests\n",
      "  Downloading requests-2.31.0-py3-none-any.whl (62 kB)\n",
      "\u001b[2K     \u001b[90m━━━━━━━━━━━━━━━━━━━━━━━━━━━━━━━━━━━━━━━━\u001b[0m \u001b[32m62.6/62.6 kB\u001b[0m \u001b[31m8.8 MB/s\u001b[0m eta \u001b[36m0:00:00\u001b[0m\n",
      "\u001b[?25hCollecting charset-normalizer<4,>=2 (from requests)\n",
      "  Downloading charset_normalizer-3.2.0-cp39-cp39-manylinux_2_17_x86_64.manylinux2014_x86_64.whl (202 kB)\n",
      "\u001b[2K     \u001b[90m━━━━━━━━━━━━━━━━━━━━━━━━━━━━━━━━━━━━━━\u001b[0m \u001b[32m202.1/202.1 kB\u001b[0m \u001b[31m11.1 MB/s\u001b[0m eta \u001b[36m0:00:00\u001b[0m\n",
      "\u001b[?25hCollecting idna<4,>=2.5 (from requests)\n",
      "  Downloading idna-3.4-py3-none-any.whl (61 kB)\n",
      "\u001b[2K     \u001b[90m━━━━━━━━━━━━━━━━━━━━━━━━━━━━━━━━━━━━━━━━\u001b[0m \u001b[32m61.5/61.5 kB\u001b[0m \u001b[31m10.6 MB/s\u001b[0m eta \u001b[36m0:00:00\u001b[0m\n",
      "\u001b[?25hCollecting urllib3<3,>=1.21.1 (from requests)\n",
      "  Downloading urllib3-2.0.3-py3-none-any.whl (123 kB)\n",
      "\u001b[2K     \u001b[90m━━━━━━━━━━━━━━━━━━━━━━━━━━━━━━━━━━━━━━\u001b[0m \u001b[32m123.6/123.6 kB\u001b[0m \u001b[31m12.5 MB/s\u001b[0m eta \u001b[36m0:00:00\u001b[0m\n",
      "\u001b[?25hCollecting certifi>=2017.4.17 (from requests)\n",
      "  Downloading certifi-2023.5.7-py3-none-any.whl (156 kB)\n",
      "\u001b[2K     \u001b[90m━━━━━━━━━━━━━━━━━━━━━━━━━━━━━━━━━━━━━━\u001b[0m \u001b[32m157.0/157.0 kB\u001b[0m \u001b[31m24.5 MB/s\u001b[0m eta \u001b[36m0:00:00\u001b[0m\n",
      "\u001b[?25hInstalling collected packages: urllib3, idna, charset-normalizer, certifi, requests\n",
      "Successfully installed certifi-2023.5.7 charset-normalizer-3.2.0 idna-3.4 requests-2.31.0 urllib3-2.0.3\n",
      "Note: you may need to restart the kernel to use updated packages.\n"
     ]
    }
   ],
   "source": [
    "%pip install requests"
   ]
  },
  {
   "cell_type": "code",
   "execution_count": 33,
   "metadata": {},
   "outputs": [],
   "source": [
    "headers={\n",
    "    'User-Agent':'Mozilla/5.0 (Windows NT 10.0; Win64; x64) AppleWebKit/537.36 (KHTML, like Gecko) Chrome/114.0.0.0 Safari/537.36'\n",
    "}"
   ]
  },
  {
   "cell_type": "code",
   "execution_count": 136,
   "metadata": {},
   "outputs": [],
   "source": [
    "response=requests.get(\"https://news.naver.com/main/list.naver\",headers=headers,\n",
    "                      params={\n",
    "                      'mode':'LS2D',\n",
    "                      'mid':'shm',\n",
    "                      'sid1':101,\n",
    "                      'sid2':259\n",
    "                      })\n",
    "# requests.post() requests.put() requests.delet()\n",
    "\n",
    "\n"
   ]
  },
  {
   "cell_type": "code",
   "execution_count": 137,
   "metadata": {},
   "outputs": [
    {
     "data": {
      "text/plain": [
       "<Response [200]>"
      ]
     },
     "execution_count": 137,
     "metadata": {},
     "output_type": "execute_result"
    }
   ],
   "source": [
    "response"
   ]
  },
  {
   "cell_type": "code",
   "execution_count": null,
   "metadata": {},
   "outputs": [],
   "source": [
    "print(response.text)"
   ]
  },
  {
   "cell_type": "code",
   "execution_count": null,
   "metadata": {},
   "outputs": [],
   "source": []
  },
  {
   "cell_type": "code",
   "execution_count": 17,
   "metadata": {},
   "outputs": [
    {
     "name": "stdout",
     "output_type": "stream",
     "text": [
      "Collecting BeautifulSoup4\n",
      "  Downloading beautifulsoup4-4.12.2-py3-none-any.whl (142 kB)\n",
      "\u001b[2K     \u001b[90m━━━━━━━━━━━━━━━━━━━━━━━━━━━━━━━━━━━━━━━\u001b[0m \u001b[32m143.0/143.0 kB\u001b[0m \u001b[31m8.9 MB/s\u001b[0m eta \u001b[36m0:00:00\u001b[0m\n",
      "\u001b[?25hCollecting soupsieve>1.2 (from BeautifulSoup4)\n",
      "  Downloading soupsieve-2.4.1-py3-none-any.whl (36 kB)\n",
      "Installing collected packages: soupsieve, BeautifulSoup4\n",
      "Successfully installed BeautifulSoup4-4.12.2 soupsieve-2.4.1\n",
      "Note: you may need to restart the kernel to use updated packages.\n"
     ]
    }
   ],
   "source": [
    "%pip install BeautifulSoup4\n"
   ]
  },
  {
   "cell_type": "code",
   "execution_count": 35,
   "metadata": {},
   "outputs": [],
   "source": [
    "from bs4 import BeautifulSoup"
   ]
  },
  {
   "cell_type": "code",
   "execution_count": 36,
   "metadata": {},
   "outputs": [],
   "source": [
    "soup=BeautifulSoup(response.text,'html.parser')"
   ]
  },
  {
   "cell_type": "code",
   "execution_count": 21,
   "metadata": {},
   "outputs": [],
   "source": [
    "newsDivTag=soup.select_one('div.list_body')"
   ]
  },
  {
   "cell_type": "code",
   "execution_count": 37,
   "metadata": {},
   "outputs": [],
   "source": [
    "liTags=newsDivTag.select('li')"
   ]
  },
  {
   "cell_type": "code",
   "execution_count": 25,
   "metadata": {},
   "outputs": [
    {
     "data": {
      "text/plain": [
       "20"
      ]
     },
     "execution_count": 25,
     "metadata": {},
     "output_type": "execute_result"
    }
   ],
   "source": [
    "len(liTags)"
   ]
  },
  {
   "cell_type": "code",
   "execution_count": 26,
   "metadata": {},
   "outputs": [
    {
     "data": {
      "text/plain": [
       "<li>\n",
       "<dl>\n",
       "<dt class=\"photo\">\n",
       "<a href=\"https://n.news.naver.com/mnews/article/003/0011970500?sid=101\">\n",
       "<img alt=\"엔화, 美 CPI 하락에 1달러=138엔대 전반 대폭 상승 출발\" height=\"72\" onerror=\"javascript:this.src='https://ssl.pstatic.net/static.news/image/news/2009/noimage_106x72.png';\" src=\"https://imgnews.pstatic.net/image/origin/003/2023/07/13/11970500.jpg?type=nf106_72\" width=\"106\"/>\n",
       "</a>\n",
       "</dt>\n",
       "<dt>\n",
       "<a href=\"https://n.news.naver.com/mnews/article/003/0011970500?sid=101\">\n",
       "\t\t\t\t\t\t\t\t 엔화, 美 CPI 하락에 1달러=138엔대 전반 대폭 상승 출발\n",
       "\t\t\t\t\t\t\t\t</a>\n",
       "</dt>\n",
       "<dd>\n",
       "<span class=\"lede\">일본 엔화 환율은 13일 미국 6월 소비자 물가지수(CPI)가 시장 예상을 하회하면서 연방준비제도(Fed 연준)의 금리인상 장기 …</span>\n",
       "<span class=\"writing\">뉴시스</span>\n",
       "<span class=\"date is_new\">1분전</span>\n",
       "</dd>\n",
       "</dl>\n",
       "</li>"
      ]
     },
     "execution_count": 26,
     "metadata": {},
     "output_type": "execute_result"
    }
   ],
   "source": [
    "liTags[0]"
   ]
  },
  {
   "cell_type": "code",
   "execution_count": 27,
   "metadata": {},
   "outputs": [
    {
     "data": {
      "text/plain": [
       "[<dt class=\"photo\">\n",
       " <a href=\"https://n.news.naver.com/mnews/article/003/0011970500?sid=101\">\n",
       " <img alt=\"엔화, 美 CPI 하락에 1달러=138엔대 전반 대폭 상승 출발\" height=\"72\" onerror=\"javascript:this.src='https://ssl.pstatic.net/static.news/image/news/2009/noimage_106x72.png';\" src=\"https://imgnews.pstatic.net/image/origin/003/2023/07/13/11970500.jpg?type=nf106_72\" width=\"106\"/>\n",
       " </a>\n",
       " </dt>,\n",
       " <dt>\n",
       " <a href=\"https://n.news.naver.com/mnews/article/003/0011970500?sid=101\">\n",
       " \t\t\t\t\t\t\t\t 엔화, 美 CPI 하락에 1달러=138엔대 전반 대폭 상승 출발\n",
       " \t\t\t\t\t\t\t\t</a>\n",
       " </dt>]"
      ]
     },
     "execution_count": 27,
     "metadata": {},
     "output_type": "execute_result"
    }
   ],
   "source": [
    "liTags[0].select('dt')"
   ]
  },
  {
   "cell_type": "code",
   "execution_count": 28,
   "metadata": {},
   "outputs": [
    {
     "data": {
      "text/plain": [
       "<dt>\n",
       "<a href=\"https://n.news.naver.com/mnews/article/003/0011970500?sid=101\">\n",
       "\t\t\t\t\t\t\t\t 엔화, 美 CPI 하락에 1달러=138엔대 전반 대폭 상승 출발\n",
       "\t\t\t\t\t\t\t\t</a>\n",
       "</dt>"
      ]
     },
     "execution_count": 28,
     "metadata": {},
     "output_type": "execute_result"
    }
   ],
   "source": [
    "liTags[0].select('dt')[1]"
   ]
  },
  {
   "cell_type": "code",
   "execution_count": 29,
   "metadata": {},
   "outputs": [
    {
     "data": {
      "text/plain": [
       "'엔화, 美 CPI 하락에 1달러=138엔대 전반 대폭 상승 출발'"
      ]
     },
     "execution_count": 29,
     "metadata": {},
     "output_type": "execute_result"
    }
   ],
   "source": [
    "liTags[0].select('dt')[1].text.strip()"
   ]
  },
  {
   "cell_type": "code",
   "execution_count": null,
   "metadata": {},
   "outputs": [],
   "source": [
    "titles=[]\n",
    "for liTag in liTags:\n",
    "    title=liTag.select('dt')[-1].text.strip()\n",
    "    titles.append(title)\n",
    "titles"
   ]
  },
  {
   "cell_type": "code",
   "execution_count": 138,
   "metadata": {},
   "outputs": [
    {
     "name": "stdout",
     "output_type": "stream",
     "text": [
      "https://n.news.naver.com/mnews/article/003/0011970500?sid=101\n",
      "https://n.news.naver.com/mnews/article/018/0005528995?sid=101\n",
      "https://n.news.naver.com/mnews/article/015/0004867537?sid=101\n",
      "https://n.news.naver.com/mnews/article/018/0005528994?sid=101\n",
      "https://n.news.naver.com/mnews/article/003/0011970499?sid=101\n",
      "https://n.news.naver.com/mnews/article/018/0005528993?sid=101\n",
      "https://n.news.naver.com/mnews/article/417/0000934728?sid=101\n",
      "https://n.news.naver.com/mnews/article/014/0005041229?sid=101\n",
      "https://n.news.naver.com/mnews/article/011/0004213428?sid=101\n",
      "https://n.news.naver.com/mnews/article/031/0000758580?sid=101\n",
      "https://n.news.naver.com/mnews/article/243/0000047424?sid=101\n",
      "https://n.news.naver.com/mnews/article/119/0002730150?sid=101\n",
      "https://n.news.naver.com/mnews/article/018/0005528990?sid=101\n",
      "https://n.news.naver.com/mnews/article/417/0000934727?sid=101\n",
      "https://n.news.naver.com/mnews/article/421/0006924930?sid=101\n",
      "https://n.news.naver.com/mnews/article/421/0006924929?sid=101\n",
      "https://n.news.naver.com/mnews/article/018/0005528989?sid=101\n",
      "https://n.news.naver.com/mnews/article/018/0005528988?sid=101\n",
      "https://n.news.naver.com/mnews/article/011/0004213426?sid=101\n",
      "https://n.news.naver.com/mnews/article/018/0005528987?sid=101\n"
     ]
    },
    {
     "data": {
      "text/plain": [
       "['엔화, 美 CPI 하락에 1달러=138엔대 전반 대폭 상승 출발',\n",
       " '[포토] 금통위 입장하는 이창용 한국은행 총재',\n",
       " '[속보] 한국은행, 기준금리 연 3.50% 동결',\n",
       " '[포토] 금통위 입장하는 이창용 한은총재',\n",
       " '[속보]한은 금통위, 기준금리 3.5%로 동결',\n",
       " '[포토] 금융통화위원회 입장하는 이창용 한은총재',\n",
       " '[머니S포토] 이창용 한은 총재, 하반기 첫 기준금리 결정 금통위 주재',\n",
       " '[속보]기준금리 3.50%, 한은 4연속 금리동결',\n",
       " '[속보] 한은, 경기·금융 불안에 4회 연속 금리 동결',\n",
       " '[속보] 한은 금통위, 기준금리 3.5%로 4연속 동결',\n",
       " '[속보] 한국은행, 기준금리 동결…연 3.50% 유지',\n",
       " \"[속보] 한은 기준금리 연 3.50% '동결'\",\n",
       " '[포토] 금융통화위원회 입장하는 한은총재',\n",
       " '[속보] 한국은행, 기준금리 4연속 동결… 연 3.50%',\n",
       " \"한은 기준금리 4연속 동결…'2%p 금리차' 부담 속 경기 집중(상보)\",\n",
       " '[속보] 한국은행 기준금리 연 3.50% 동결…4회 연속',\n",
       " '[포토] 금융통화위원회',\n",
       " '[포토] 금융통화위원회 주재하는 이창용 총재',\n",
       " '금리 고공행진에 상반기 채권·CD 발행규모 1년새 11.3% ‘쑥’',\n",
       " '[포토] 한국은행 금통위']"
      ]
     },
     "execution_count": 138,
     "metadata": {},
     "output_type": "execute_result"
    }
   ],
   "source": [
    "titles=[]\n",
    "for liTag in liTags:\n",
    "    dtTag=liTag.select('dt')[-1]\n",
    "    title=dtTag.text.strip()\n",
    "    href=dtTag.select_one('a').attrs['href']\n",
    "    print(href)\n",
    "    titles.append(title)\n",
    "titles"
   ]
  },
  {
   "cell_type": "code",
   "execution_count": 43,
   "metadata": {},
   "outputs": [
    {
     "data": {
      "text/plain": [
       "'https://n.news.naver.com/mnews/article/018/0005528987?sid=101'"
      ]
     },
     "execution_count": 43,
     "metadata": {},
     "output_type": "execute_result"
    }
   ],
   "source": [
    "dtTag.select('a')[0].attrs['href']"
   ]
  },
  {
   "cell_type": "code",
   "execution_count": 44,
   "metadata": {},
   "outputs": [
    {
     "data": {
      "text/plain": [
       "<a href=\"https://n.news.naver.com/mnews/article/018/0005528987?sid=101\">\n",
       "\t\t\t\t\t\t\t\t [포토] 한국은행 금통위\n",
       "\t\t\t\t\t\t\t\t</a>"
      ]
     },
     "execution_count": 44,
     "metadata": {},
     "output_type": "execute_result"
    }
   ],
   "source": [
    "dtTag.select_one('a')"
   ]
  },
  {
   "cell_type": "code",
   "execution_count": null,
   "metadata": {},
   "outputs": [],
   "source": [
    "requests.post(url,headers,data={\n",
    "    \n",
    "})"
   ]
  },
  {
   "cell_type": "code",
   "execution_count": 62,
   "metadata": {},
   "outputs": [],
   "source": [
    "# HTML 문서 내에 ID가 mw-content-text인 태그내의 내용을 출력해주세\n",
    "url=\"https://ko.wikipedia.org/wiki/%EC%9C%84%ED%82%A4%EB%B0%B1%EA%B3%BC\"\n",
    "response=requests.get(url,headers=headers\n",
    "                     )"
   ]
  },
  {
   "cell_type": "code",
   "execution_count": 63,
   "metadata": {},
   "outputs": [
    {
     "data": {
      "text/plain": [
       "<Response [200]>"
      ]
     },
     "execution_count": 63,
     "metadata": {},
     "output_type": "execute_result"
    }
   ],
   "source": [
    "response"
   ]
  },
  {
   "cell_type": "code",
   "execution_count": null,
   "metadata": {},
   "outputs": [],
   "source": [
    "print(response.text)"
   ]
  },
  {
   "cell_type": "code",
   "execution_count": 64,
   "metadata": {},
   "outputs": [],
   "source": [
    "soup=BeautifulSoup(response.text,'html.parser')"
   ]
  },
  {
   "cell_type": "code",
   "execution_count": 67,
   "metadata": {},
   "outputs": [],
   "source": [
    "DivTag=soup.select_one('#mw-content-text').text\n"
   ]
  },
  {
   "cell_type": "code",
   "execution_count": null,
   "metadata": {},
   "outputs": [],
   "source": [
    "print(DivTag)"
   ]
  },
  {
   "cell_type": "code",
   "execution_count": null,
   "metadata": {},
   "outputs": [],
   "source": [
    "# - HTML 문서 내에 class가 noti_list인 태그내의 내용을 출력해주세\n",
    "response2=requests.get(\"https://www.saramin.co.kr/zf_user/jobs/public/list\",headers=headers\n",
    "                     )\n",
    "response2\n",
    "soup2=BeautifulSoup(response2.text,'html.parser')\n",
    "ClassTag=soup2.select_one('.list_item').text\n",
    "print(ClassTag)"
   ]
  },
  {
   "cell_type": "code",
   "execution_count": 112,
   "metadata": {},
   "outputs": [
    {
     "data": {
      "text/plain": [
       "<Response [200]>"
      ]
     },
     "execution_count": 112,
     "metadata": {},
     "output_type": "execute_result"
    }
   ],
   "source": [
    "url=\"https://didimteo.startup-plus.kr/cms_for_bcb/process/notice/list.do?show_no=2326&check_no=2312&c_relation=35&c_relation2=23\"\n",
    "\n",
    "\n",
    "response=requests.get(url,headers=headers )\n",
    "response"
   ]
  },
  {
   "cell_type": "code",
   "execution_count": 111,
   "metadata": {},
   "outputs": [],
   "source": [
    "soup=BeautifulSoup(response.text,'html.parser')\n",
    "# ClassTag=soup.select_one('div.tab-pane')\n",
    "# print(ClassTag)"
   ]
  },
  {
   "cell_type": "code",
   "execution_count": 103,
   "metadata": {},
   "outputs": [
    {
     "data": {
      "text/plain": [
       "'· \\n\\t\\t\\t\\t\\t\\t\\t\\t\\t\\n\\t\\t\\t\\t\\t\\t\\t\\t\\t[센터 언론보도] 서울창업디딤터 멘토단, 창업 초기 기업 스케일업..'"
      ]
     },
     "execution_count": 103,
     "metadata": {},
     "output_type": "execute_result"
    }
   ],
   "source": [
    "# tdTags=ClassTag.select('td')\n",
    "\n",
    "\n",
    "# tdTags[0].text.strip()\n",
    "\n",
    "# # titles=[]\n",
    "# # for tdTag in tdTags:\n",
    "# #     title=tdTag.select('td')[-1].text.strip()\n",
    "# # href=dtTag.select_one('a').attrs['href']\n",
    "# #     titles.append(title)\n",
    "# # titles"
   ]
  },
  {
   "cell_type": "code",
   "execution_count": 124,
   "metadata": {},
   "outputs": [],
   "source": [
    "trTags=soup.select('tbody>tr')\n",
    "day=[]\n",
    "title=[]\n",
    "result=[]\n",
    "for trTag in trTags:\n",
    "    title=trTag.select_one('.list-title').text.strip()\n",
    "    day=trTag.select_one('.list-right').text.strip()\n",
    "    temp={\n",
    "        '제목':title\n",
    "        ,'날짜':day,\n",
    "    }\n",
    "    result.append(temp)\n",
    "    "
   ]
  },
  {
   "cell_type": "code",
   "execution_count": 125,
   "metadata": {},
   "outputs": [
    {
     "data": {
      "text/plain": [
       "[{'제목': '[창업교육·멘토링] 제2회 정부지원 창업 도전 : 사업계획서 교육생 모집 안내', '날짜': '2023-06-27'},\n",
       " {'제목': '[창업교육·멘토링] 제1회 창업새내기 : 직무전환/재창업/홍보·마케팅 교육생 모집 안내',\n",
       "  '날짜': '2023-06-08'},\n",
       " {'제목': '[공사] 5/20~6/20 화장실 리모델링 공사 안내', '날짜': '2023-05-19'},\n",
       " {'제목': '[서울창업디딤터] 2022년 서울창업디딤터 입주기업 홍보 책자', '날짜': '2022-12-23'},\n",
       " {'제목': '[서울창업디딤터] 광운대학교 산학협력단 직원 채용 공고', '날짜': '2022-12-07'},\n",
       " {'제목': '[BI 추가모집] 2022년 서울창업디딤터 BI 입주기업 모집', '날짜': '2022-11-28'},\n",
       " {'제목': '2022년 서울창업디딤터 데모데이(DEMO DAY)', '날짜': '2022-11-18'},\n",
       " {'제목': '[서울창업디딤터] 2022년 카페 운영사업자 공모 안내 (~11/29, 화)', '날짜': '2022-11-16'},\n",
       " {'제목': '2022년 서울창업디딤터 에듀테크 입주기업 추가 모집', '날짜': '2022-08-31'},\n",
       " {'제목': '[서울창업디딤터] 2021년 PRE-BI 입주기업 추가 모집 공고 (~8/13,14시)',\n",
       "  '날짜': '2021-08-03'}]"
      ]
     },
     "execution_count": 125,
     "metadata": {},
     "output_type": "execute_result"
    }
   ],
   "source": [
    "result"
   ]
  },
  {
   "cell_type": "code",
   "execution_count": 141,
   "metadata": {},
   "outputs": [
    {
     "data": {
      "text/plain": [
       "<Response [200]>"
      ]
     },
     "execution_count": 141,
     "metadata": {},
     "output_type": "execute_result"
    }
   ],
   "source": [
    "#  사이트에서 하이퍼링크에 baCategory1=basic이 포함된 태그를 하나만 선택해 출력해주세요\n",
    "url=\"https://youth.seoul.go.kr/site/main/home\"\n",
    "\n",
    "\n",
    "response=requests.get(url,headers=headers )\n",
    "response"
   ]
  },
  {
   "cell_type": "code",
   "execution_count": 146,
   "metadata": {},
   "outputs": [
    {
     "name": "stdout",
     "output_type": "stream",
     "text": [
      "<a \"=\"\" class=\"tit\" href=\"/site/main/board/notice/list?baCategory1=basic\">공지사항</a>\n"
     ]
    }
   ],
   "source": [
    "soup=BeautifulSoup(response.text,'html.parser')\n",
    "tag=soup.select_one('a[href$=\"baCategory1=basic\"]')\n",
    "print(tag)\n"
   ]
  },
  {
   "cell_type": "code",
   "execution_count": 161,
   "metadata": {},
   "outputs": [],
   "source": [
    "url='https://ko.wikipedia.org/wiki/%ED%8F%AC%ED%84%B8:%EC%9A%94%EC%A6%98_%ED%99%94%EC%A0%9C'\n",
    "# 사이트에서 주요뉴스 내용과 일자별 뉴스들을 리스트로 정리해주세요\n",
    "\n",
    "response = requests.get(url,headers=headers)\n",
    "response\n",
    "\n",
    "soup=BeautifulSoup(response.text,'html.parser')\n",
    "table_tags=soup.select('.vevent')\n",
    "\n"
   ]
  },
  {
   "cell_type": "code",
   "execution_count": 162,
   "metadata": {},
   "outputs": [
    {
     "data": {
      "text/plain": [
       "19"
      ]
     },
     "execution_count": 162,
     "metadata": {},
     "output_type": "execute_result"
    }
   ],
   "source": [
    "len(table_tags)"
   ]
  },
  {
   "cell_type": "code",
   "execution_count": 168,
   "metadata": {},
   "outputs": [
    {
     "name": "stdout",
     "output_type": "stream",
     "text": [
      "['Current events of 2023년 7월 12일\\xa0(2023-07-12) (수요일)', '', 'Current events of 2023년 7월 11일\\xa0(2023-07-11) (화요일)', '', 'Current events of 2023년 7월 10일\\xa0(2023-07-10) (월요일)', '', 'Current events of 2023년 7월 9일\\xa0(2023-07-09) (일요일)', '', 'Current events of 2023년 7월 8일\\xa0(2023-07-08) (토요일)', '', 'Current events of 2023년 7월 7일\\xa0(2023-07-07) (금요일)', \"법과 범죄\\n대한민국 영아 살인 사건: 감사원은 보건복지부 정기감사에서 2015년부터 2022년까지 8년 간 의료기관 출생 기록은 있지만 행정기관에 신고되지 않은 '유령 영ㆍ유아' 2,236명을 소재 파악했다.\", 'Current events of 2023년 7월 6일\\xa0(2023-07-06) (목요일)', '', 'Current events of 2023년 7월 5일\\xa0(2023-07-05) (수요일)', '', 'Current events of 2023년 7월 4일\\xa0(2023-07-04) (화요일)', '', 'Current events of 2023년 7월 3일\\xa0(2023-07-03) (월요일)', '정치와 선거\\n\\n신안경찰서가 개소한다.', 'Current events of 2023년 7월 2일\\xa0(2023-07-02) (일요일)', '', 'Current events of 2023년 7월 1일\\xa0(2023-07-01) (토요일)', '정치와 선거\\n\\n군위군의 대구광역시 편입: 법률 제19155호 시행에 따라서, 경상북도 군위군이 대구광역시로 편입되었다.\\n교통\\n\\n수도권 전철 서해선의 소사역~대곡역 구간이 개통되었다.', 'Current events of 2023년 6월 30일\\xa0(2023-06-30) (금요일)', '정치와 선거\\n\\n브라질의 선거법원이 자이르 보우소나루 전 대통령을 2022년 대선 전 직권남용 건으로 2030년까지 공직에 출마하는 것을 금지하였다.', 'Current events of 2023년 6월 29일\\xa0(2023-06-29) (목요일)', '법과 범죄\\n\\n미국 연방대법원이 공정한 입학을 위한 학생들 대 하버드 대학교 사건에서 대학입시에서 인종에 관한 적극적 우대조치를 위헌으로 결정내려 금지하였다.', 'Current events of 2023년 6월 28일\\xa0(2023-06-28) (수요일)', '']\n"
     ]
    }
   ],
   "source": [
    "result=[]\n",
    "for table_tag in table_tags[1:-3]:\n",
    "    # print(table_tag.select_one('.summary').text.strip())\n",
    "    # print(table_tag.select_one('.description').text.strip())\n",
    "    # p,ul 태그로 분리\n",
    "    result.extend([table_tag.select_one('.summary').text.strip(),\n",
    "                  table_tag.select_one('.description').text.strip()])\n",
    "print(result)\n"
   ]
  },
  {
   "cell_type": "code",
   "execution_count": null,
   "metadata": {},
   "outputs": [],
   "source": [
    "# 주요뉴스\n",
    "table_tag[0]"
   ]
  },
  {
   "cell_type": "code",
   "execution_count": 154,
   "metadata": {},
   "outputs": [
    {
     "data": {
      "text/plain": [
       "'7월 1일, 서해선 소사역~대곡역 구간이 개통되었다.'"
      ]
     },
     "execution_count": 154,
     "metadata": {},
     "output_type": "execute_result"
    }
   ],
   "source": [
    "# titles =[]\n",
    "# liTags[1].text"
   ]
  },
  {
   "cell_type": "code",
   "execution_count": null,
   "metadata": {},
   "outputs": [],
   "source": [
    "# 네이버 영화랭킹\n",
    "# - 영화 랭킹을 ‘순위: 영화제목’ 양식으로 출력해주세요.\n",
    "# - https://movie.naver.com/movie/sdb/rank/rmovie.naver"
   ]
  },
  {
   "cell_type": "code",
   "execution_count": null,
   "metadata": {},
   "outputs": [],
   "source": [
    "#  종목명과 현재가를 크롤링해주세요.\n",
    "# 2. 전일대비 상승한 종목만 종목명, 현재가, 전일비를 크롤링해주세요\n",
    "url=\"https://youth.seoul.go.kr/site/main/home\"\n",
    "\n",
    "\n",
    "response=requests.get(url,headers=headers )\n",
    "response\n",
    "\n",
    "soup=BeautifulSoup(response.text,'html.parser')\n",
    "stock=soup.select('a[href$=\"baCategory1=basic\"]')\n",
    "print(stock)\n"
   ]
  },
  {
   "cell_type": "code",
   "execution_count": null,
   "metadata": {},
   "outputs": [],
   "source": [
    "# 무신사 쇼핑몰 상의(TOP) 카테고리 첫페이지 제품들의 브랜드명, 제품명, 원래가격, 할인가격을 크롤링해주세요.\n",
    "# - https://store.musinsa.com/app/items/lists/001\n",
    "# - 성공하신분들은 총 10페이지까지 크롤링해주세요."
   ]
  },
  {
   "cell_type": "code",
   "execution_count": null,
   "metadata": {},
   "outputs": [],
   "source": [
    "# 아래 URL에서 JTBC 매체의 어제일자 모든 기사를 제목과 본문으로 구분하여 크롤링해주세요.\n",
    "# - https://news.naver.com/main/list.naver?mode=LPOD&mid=sec&oid=437\n"
   ]
  }
 ],
 "metadata": {
  "kernelspec": {
   "display_name": "pandas",
   "language": "python",
   "name": "python3"
  },
  "language_info": {
   "codemirror_mode": {
    "name": "ipython",
    "version": 3
   },
   "file_extension": ".py",
   "mimetype": "text/x-python",
   "name": "python",
   "nbconvert_exporter": "python",
   "pygments_lexer": "ipython3",
   "version": "3.9.16"
  },
  "orig_nbformat": 4
 },
 "nbformat": 4,
 "nbformat_minor": 2
}
