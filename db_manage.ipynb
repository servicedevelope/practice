{
 "cells": [
  {
   "cell_type": "code",
   "execution_count": 149,
   "metadata": {},
   "outputs": [
    {
     "name": "stdout",
     "output_type": "stream",
     "text": [
      "d\n"
     ]
    }
   ],
   "source": [
    "print(\"d\")"
   ]
  },
  {
   "cell_type": "code",
   "execution_count": 150,
   "metadata": {},
   "outputs": [
    {
     "name": "stdout",
     "output_type": "stream",
     "text": [
      "Requirement already satisfied: pymysql in /home/user/anaconda3/envs/pandas/lib/python3.9/site-packages (1.1.0)\n",
      "Note: you may need to restart the kernel to use updated packages.\n"
     ]
    }
   ],
   "source": [
    "%pip install pymysql"
   ]
  },
  {
   "cell_type": "code",
   "execution_count": 151,
   "metadata": {},
   "outputs": [],
   "source": [
    "import pymysql"
   ]
  },
  {
   "cell_type": "code",
   "execution_count": 152,
   "metadata": {},
   "outputs": [],
   "source": [
    "def read_config(p:str) -> dict: \n",
    "    \"\"\"\n",
    "    p: config file경로\n",
    "    \"\"\"\n",
    "\n",
    "    with open(p, 'r') as f:\n",
    "        lines=f.readlines()\n",
    "    return lines"
   ]
  },
  {
   "cell_type": "code",
   "execution_count": 153,
   "metadata": {},
   "outputs": [],
   "source": [
    "lines=read_config('./db_config')"
   ]
  },
  {
   "cell_type": "code",
   "execution_count": 154,
   "metadata": {},
   "outputs": [
    {
     "name": "stdout",
     "output_type": "stream",
     "text": [
      "['host=localhost\\n', 'user=choi\\n', 'password=1234\\n', 'database=study\\n', 'charset=utf8mb4']\n"
     ]
    }
   ],
   "source": [
    "print(lines)"
   ]
  },
  {
   "cell_type": "code",
   "execution_count": 196,
   "metadata": {},
   "outputs": [],
   "source": [
    "def read_config(p:str) -> dict:\n",
    "    \"\"\"\n",
    "    p: config file 경로\n",
    "    \"\"\"\n",
    "    with open(p, 'r') as f:\n",
    "        db_config = f.readlines()\n",
    "    config_dict={}\n",
    "\n",
    "    for l in lines:\n",
    "        idx = l.index('=')\n",
    "        k = l[:idx]\n",
    "        v = l[idx+1:]\n",
    "        config_dict[k] = v.rstrip()\n",
    "    \n",
    "    return config_dict"
   ]
  },
  {
   "cell_type": "code",
   "execution_count": 156,
   "metadata": {},
   "outputs": [],
   "source": [
    "db_config = read_config('./test.config')"
   ]
  },
  {
   "cell_type": "code",
   "execution_count": 157,
   "metadata": {},
   "outputs": [
    {
     "data": {
      "text/plain": [
       "{}"
      ]
     },
     "execution_count": 157,
     "metadata": {},
     "output_type": "execute_result"
    }
   ],
   "source": [
    "config_dict={}\n",
    "\n",
    "for i in config_dict:\n",
    "    # k,v = i.split('=')\n",
    "    idx = i.index('=')\n",
    "    k=i[:idx]\n",
    "    v=i[idx+1:]\n",
    "    config_dict[k] = v.rstrip()\n",
    "\n",
    "config_dict"
   ]
  },
  {
   "cell_type": "code",
   "execution_count": 197,
   "metadata": {},
   "outputs": [
    {
     "name": "stdout",
     "output_type": "stream",
     "text": [
      "sucesse\n"
     ]
    }
   ],
   "source": [
    "try:\n",
    "    # conn=pymysql.connect(\n",
    "    #     host=\"localhost\",\n",
    "    #     # port=3306,\n",
    "    #     user =\"choi\",\n",
    "    #     password=\"1234\",\n",
    "    #     database=\"study\",\n",
    "    #     charset=\"utf8mb4\"\n",
    "\n",
    "    # )\n",
    "    conn =pymysql.connect(**config_dict)\n",
    "    print(\"sucesse\")\n",
    "except Exception as e:\n",
    "    print(\"fail\",e)"
   ]
  },
  {
   "cell_type": "code",
   "execution_count": 159,
   "metadata": {},
   "outputs": [],
   "source": [
    "db_config =read_config(\"./test.config\")"
   ]
  },
  {
   "cell_type": "code",
   "execution_count": 160,
   "metadata": {},
   "outputs": [
    {
     "name": "stdout",
     "output_type": "stream",
     "text": [
      "['host=localhost\\n', 'user=root\\n', 'password=1234\\n', 'database=study\\n', 'charset=utf8mb4']\n"
     ]
    }
   ],
   "source": [
    "with open('./test.config', 'r') as f:\n",
    "        config=f.readlines()\n",
    "\n",
    "print(config)"
   ]
  },
  {
   "cell_type": "code",
   "execution_count": 161,
   "metadata": {},
   "outputs": [
    {
     "data": {
      "text/plain": [
       "{'host': 'localhost',\n",
       " 'user': 'root',\n",
       " 'password': '1234',\n",
       " 'database': 'study',\n",
       " 'charset': 'utf8mb4'}"
      ]
     },
     "execution_count": 161,
     "metadata": {},
     "output_type": "execute_result"
    }
   ],
   "source": [
    "config_dict={}\n",
    "\n",
    "for i in config:\n",
    "    # k,v = i.split('=')\n",
    "    idx = i.index('=')\n",
    "    k=i[:idx]\n",
    "    v=i[idx+1:]\n",
    "    config_dict[k] = v.rstrip()\n",
    "\n",
    "config_dict"
   ]
  },
  {
   "cell_type": "code",
   "execution_count": 162,
   "metadata": {},
   "outputs": [],
   "source": [
    "db_config = read_config('./test.config')"
   ]
  },
  {
   "cell_type": "code",
   "execution_count": 163,
   "metadata": {},
   "outputs": [],
   "source": [
    "def read_config(p:str) -> dict:\n",
    "    \"\"\"\n",
    "    p: config file 경로\n",
    "    \"\"\"\n",
    "    with open(p, 'r') as f:\n",
    "        db_config = f.readlines()\n",
    "    config_dict={}\n",
    "\n",
    "    for l in lines:\n",
    "        idx = l.index('=')\n",
    "        k = l[:idx]\n",
    "        v = l[idx+1:]\n",
    "        config_dict[k] = v.rstrip()\n",
    "    \n",
    "    return config_dict"
   ]
  },
  {
   "cell_type": "code",
   "execution_count": 164,
   "metadata": {},
   "outputs": [
    {
     "data": {
      "text/plain": [
       "{'host': 'localhost',\n",
       " 'user': 'choi',\n",
       " 'password': '1234',\n",
       " 'database': 'study',\n",
       " 'charset': 'utf8mb4'}"
      ]
     },
     "execution_count": 164,
     "metadata": {},
     "output_type": "execute_result"
    }
   ],
   "source": [
    "config_dict={}\n",
    "\n",
    "for i in lines:\n",
    "    # k,v = i.split('=')\n",
    "    idx = i.index('=')\n",
    "    k=i[:idx]\n",
    "    v=i[idx+1:]\n",
    "    config_dict[k] = v.rstrip()\n",
    "\n",
    "config_dict"
   ]
  },
  {
   "cell_type": "code",
   "execution_count": 165,
   "metadata": {},
   "outputs": [
    {
     "name": "stdout",
     "output_type": "stream",
     "text": [
      "sucesse\n"
     ]
    }
   ],
   "source": [
    "try:\n",
    "    # conn=pymysql.connect(\n",
    "    #     host=\"localhost\",\n",
    "    #     # port=3306,\n",
    "    #     user =\"choi\",\n",
    "    #     password=\"1234\",\n",
    "    #     database=\"study\",\n",
    "    #     charset=\"utf8mb4\"\n",
    "\n",
    "    # )\n",
    "    conn =pymysql.connect(**db_config)\n",
    "    print(\"sucesse\")\n",
    "except Exception as e:\n",
    "    print(\"fail\",e)"
   ]
  },
  {
   "cell_type": "code",
   "execution_count": 166,
   "metadata": {},
   "outputs": [],
   "source": [
    "\n",
    "test_config = read_config('./test.config')\n",
    "\n"
   ]
  },
  {
   "cell_type": "code",
   "execution_count": 167,
   "metadata": {},
   "outputs": [],
   "source": [
    "def read_config(p:str) -> dict:\n",
    "    \"\"\"\n",
    "    p: test config file 경로\n",
    "    \"\"\"\n",
    "    with open(p, 'r') as f:\n",
    "        lines_test= f.readlines()\n",
    "    config_dict2={}\n",
    "\n",
    "    for l in lines_test:\n",
    "        idx = l.index('=')\n",
    "        k = l[:idx]\n",
    "        v = l[idx+1:]\n",
    "        config_dict2[k] = v.rstrip()\n",
    "        \n",
    "    return config_dict2\n",
    "\n"
   ]
  },
  {
   "cell_type": "code",
   "execution_count": 168,
   "metadata": {},
   "outputs": [
    {
     "name": "stdout",
     "output_type": "stream",
     "text": [
      "sucesse\n"
     ]
    }
   ],
   "source": [
    "try:\n",
    "    \n",
    "    conn =pymysql.connect(**test_config)\n",
    "    print(\"sucesse\")\n",
    "except Exception as e:\n",
    "    print(\"fail\",e)"
   ]
  },
  {
   "cell_type": "code",
   "execution_count": 169,
   "metadata": {},
   "outputs": [
    {
     "data": {
      "text/plain": [
       "<pymysql.connections.Connection at 0x7f14a31869a0>"
      ]
     },
     "execution_count": 169,
     "metadata": {},
     "output_type": "execute_result"
    }
   ],
   "source": [
    "conn"
   ]
  },
  {
   "cell_type": "code",
   "execution_count": 198,
   "metadata": {},
   "outputs": [
    {
     "data": {
      "text/plain": [
       "<pymysql.connections.Connection at 0x7f14a2dbb430>"
      ]
     },
     "execution_count": 198,
     "metadata": {},
     "output_type": "execute_result"
    }
   ],
   "source": [
    "conn"
   ]
  },
  {
   "cell_type": "code",
   "execution_count": 171,
   "metadata": {},
   "outputs": [],
   "source": [
    "with conn.cursor() as cursor:\n",
    "    sql = 'INSERT INTO `Students`(`Name`,`Age`,`Address`)\\\n",
    "          VALUES (\"jj\",\"26\",\"toyko\")'\n",
    "    cursor.execute(sql)\n",
    "\n",
    "conn.commit()"
   ]
  },
  {
   "cell_type": "code",
   "execution_count": 172,
   "metadata": {},
   "outputs": [],
   "source": [
    "with conn.cursor() as cursor:\n",
    "    sql = 'INSERT INTO `Students`(`Name`,`Age`,`Address`)\\\n",
    "          VALUES (%s,%s,%s)'\n",
    "    cursor.execute(sql,(\"jjj\",\"26\",\"toyko\"))\n",
    "\n",
    "conn.commit()"
   ]
  },
  {
   "cell_type": "code",
   "execution_count": 173,
   "metadata": {},
   "outputs": [],
   "source": [
    "with conn.cursor() as cursor:\n",
    "    sql = 'INSERT INTO `Students`(`Name`)\\\n",
    "          VALUES (%s)'\n",
    "    cursor.executemany(sql,[\n",
    "        (\"j1\",),\n",
    "        (\"j2\",)\n",
    "        ])\n",
    "\n",
    "conn.commit()"
   ]
  },
  {
   "cell_type": "code",
   "execution_count": 174,
   "metadata": {},
   "outputs": [
    {
     "data": {
      "text/plain": [
       "((1, '홍길동', 30, '인천'),\n",
       " (2, '이연걸', 60, '서울'),\n",
       " (3, '이몽룡', 42, '대전'),\n",
       " (4, '성춘향', 27, '경기'),\n",
       " (5, 'jk', 27, '서울'))"
      ]
     },
     "execution_count": 174,
     "metadata": {},
     "output_type": "execute_result"
    }
   ],
   "source": [
    "with conn.cursor() as cur:\n",
    "    sql ='SELECT * FROM Students LIMIT %s OFFSET %s'\n",
    "    cur.execute(sql,(5,0))\n",
    "    data = cur.fetchall()\n",
    "data\n",
    "    \n"
   ]
  },
  {
   "cell_type": "code",
   "execution_count": 175,
   "metadata": {},
   "outputs": [],
   "source": [
    "page_size=5\n",
    "page=1\n",
    "\n",
    "limit = page_size\n",
    "offset = page_size * (page-1)\n"
   ]
  },
  {
   "cell_type": "code",
   "execution_count": 194,
   "metadata": {},
   "outputs": [
    {
     "data": {
      "text/plain": [
       "((1, '홍길동', 30, '인천'),\n",
       " (2, '이연걸', 60, '서울'),\n",
       " (3, '이몽룡', 42, '대전'),\n",
       " (4, '성춘향', 27, '경기'),\n",
       " (5, 'jk', 27, '서울'),\n",
       " (7, 'jjj', 26, 'toyko'),\n",
       " (8, 'j1', None, None),\n",
       " (9, 'j2', None, None),\n",
       " (10, 'jj', 26, 'toyko'),\n",
       " (11, 'jjj', 26, 'toyko'))"
      ]
     },
     "execution_count": 194,
     "metadata": {},
     "output_type": "execute_result"
    }
   ],
   "source": [
    "def pagination(page,page_size=5):\n",
    "    limit = page_size\n",
    "    offset = page_size * (page-1)\n",
    "\n",
    "    with conn.cursor() as cur:\n",
    "        sql ='SELECT * FROM Students LIMIT %s OFFSET %s'\n",
    "        cur.execute(sql,(limit,offset))\n",
    "        data = cur.fetchall()\n",
    "        \n",
    "    return data\n",
    "\n",
    "page_one=pagination(1,page_size=10)\n",
    "page_one"
   ]
  },
  {
   "cell_type": "code",
   "execution_count": 186,
   "metadata": {},
   "outputs": [
    {
     "data": {
      "text/plain": [
       "((1, '홍길동', 30, '인천'),\n",
       " (2, '이연걸', 60, '서울'),\n",
       " (3, '이몽룡', 42, '대전'),\n",
       " (4, '성춘향', 27, '경기'),\n",
       " (5, 'jk', 27, '서울'))"
      ]
     },
     "execution_count": 186,
     "metadata": {},
     "output_type": "execute_result"
    }
   ],
   "source": [
    "pagination(1,page_size=10)"
   ]
  },
  {
   "cell_type": "code",
   "execution_count": 178,
   "metadata": {},
   "outputs": [],
   "source": [
    "##update\n",
    "with conn.cursor() as cur:\n",
    "    sql=\"update `students` set Age=%s where studentID=%s\"\n",
    "    cur.execute(sql,('27',5))\n",
    "conn.commit()\n"
   ]
  },
  {
   "cell_type": "code",
   "execution_count": 187,
   "metadata": {},
   "outputs": [],
   "source": [
    "with conn.cursor() as cur:\n",
    "    sql=\"delete from students where studentID=%s\"\n",
    "    cur.execute(sql,(6,))\n",
    "conn.commit()"
   ]
  },
  {
   "cell_type": "code",
   "execution_count": 208,
   "metadata": {},
   "outputs": [
    {
     "data": {
      "text/plain": [
       "((1, '홍길동', 30, '인천'),\n",
       " (2, '이연걸', 60, '서울'),\n",
       " (3, '이몽룡', 42, '대전'),\n",
       " (4, '성춘향', 27, '경기'),\n",
       " (5, 'jk', 27, '서울'),\n",
       " (12, 'j1', None, None),\n",
       " (13, 'j2', None, None))"
      ]
     },
     "execution_count": 208,
     "metadata": {},
     "output_type": "execute_result"
    }
   ],
   "source": [
    "pagination(1,page_size=10)"
   ]
  },
  {
   "cell_type": "code",
   "execution_count": 199,
   "metadata": {},
   "outputs": [],
   "source": [
    "with conn.cursor() as cur:\n",
    "    sql=\"delete from students where studentID in (%s,%s,%s)\"\n",
    "    cur.execute(sql,(7,8,9))\n",
    "conn.commit()"
   ]
  },
  {
   "cell_type": "code",
   "execution_count": null,
   "metadata": {},
   "outputs": [],
   "source": [
    "\n",
    "# SET FOREING_KEY_CHECKS=0;"
   ]
  },
  {
   "cell_type": "code",
   "execution_count": 207,
   "metadata": {},
   "outputs": [],
   "source": [
    "def delete(target_ids:tuple):\n",
    "    with conn.cursor() as cur:\n",
    "        sql= 'delete from `students` where StudentID in (' +\\\n",
    "              ','.join(['%s']*len(target_ids)) + ')'\n",
    "        cur.execute(sql,target_ids)\n",
    "    conn.commit()   \n",
    "    return \n",
    "\n",
    "delete((10,11,))"
   ]
  },
  {
   "cell_type": "code",
   "execution_count": 218,
   "metadata": {},
   "outputs": [
    {
     "data": {
      "text/plain": [
       "((1, 'Q1', None, None, None),\n",
       " (2, 'Q2', 'ese@ee.do', '002', 'english'),\n",
       " (3, 'Q3', 'ese@ee.do', '003', 'math'),\n",
       " (4, 'Q4', 'eve@ee.do', '004', 'japanese'))"
      ]
     },
     "execution_count": 218,
     "metadata": {},
     "output_type": "execute_result"
    }
   ],
   "source": [
    "def pagination_(page,page_size=5):\n",
    "    limit = page_size\n",
    "    offset = page_size * (page-1)\n",
    "\n",
    "    with conn.cursor() as cur:\n",
    "        sql ='SELECT * FROM Student LIMIT %s OFFSET %s'\n",
    "        cur.execute(sql,(limit,offset))\n",
    "        data = cur.fetchall()\n",
    "        \n",
    "    return data\n",
    "\n",
    "page_one=pagination_(1,page_size=10)\n",
    "page_one"
   ]
  },
  {
   "cell_type": "markdown",
   "metadata": {},
   "source": [
    " db에 student 테이블을 생성해주세요.\n",
    "- id (빈 값 허용 안함, 자동 증가)\n",
    "- name (최대 16글자)\n",
    "- email (최대 32글자)\n",
    "- phone (최대 16글자)\n",
    "- major (최대 16글자)\n",
    "- 수강생 중 한 분의 데이터를 DB에 입력해주세요.\n",
    "- 수강생 중 네 분의 데이터를 DB에 동시에 추가해주세요.\n",
    "- 입력한 전체 데이터를 확인해주세요.\n",
    "- 한 수강생분의 이메일이 잘못 입력되었다고 가정하고, 이메일을 수정, \n",
    "DB에 반영해주세요.\n",
    "- 수강생 한 분이 취업하셨습니다. DB에서 삭제 해주세요.\n",
    "\n",
    "CREATE TABLE Student (\n",
    "    id INT NOT NULL AUTO_INCREMENT,\n",
    "    name VARCHAR(16),\n",
    "    email VARCHAR(32),\n",
    "    phone VARCHAR(16),\n",
    "    major VARCHAR(16),\n",
    "    PRIMARY KEY(id)\n",
    ");"
   ]
  },
  {
   "cell_type": "code",
   "execution_count": 209,
   "metadata": {},
   "outputs": [],
   "source": [
    "with conn.cursor() as cur:\n",
    "    sql=\"insert into `student`(`name`) values(%s) \"\n",
    "    cur.execute(sql,(\"Q1\",))\n",
    "conn.commit()"
   ]
  },
  {
   "cell_type": "code",
   "execution_count": 216,
   "metadata": {},
   "outputs": [],
   "source": [
    "with conn.cursor() as cur:\n",
    "    sql=\"insert into `student`(`name`,`email`,`phone`,`major`) values(%s,%s,%s,%s) \"\n",
    "    cur.executemany(sql,[\n",
    "                    (\"Q2\",\"ese@ee.do\",\"002\",\"english\",),\n",
    "                    (\"Q3\",\"ese@ee.do\",\"003\",\"math\",),\n",
    "                    (\"Q4\",\"eve@ee.do\",\"004\",\"japanese\",)\n",
    "                    ])\n",
    "conn.commit()"
   ]
  },
  {
   "cell_type": "code",
   "execution_count": 224,
   "metadata": {},
   "outputs": [
    {
     "data": {
      "text/plain": [
       "((1, 'Q1', None, None, None),\n",
       " (3, 'Q3', 'ese@ee.do', '003', 'math'),\n",
       " (4, 'Q4', 'eve@ee.do', '004', 'japanese'))"
      ]
     },
     "execution_count": 224,
     "metadata": {},
     "output_type": "execute_result"
    }
   ],
   "source": [
    "with conn.cursor() as cur:\n",
    "    sql=\"select * from `student`\"\n",
    "    cur.execute(sql,)\n",
    "    data = cur.fetchall()\n",
    "data"
   ]
  },
  {
   "cell_type": "markdown",
   "metadata": {},
   "source": [
    "- 한 수강생분의 이메일이 잘못 입력되었다고 가정하고, 이메일을 수정, \n",
    "DB에 반영해주세요.\n",
    "- 수강생 한 분이 취업하셨습니다. DB에서 삭제 해주세요."
   ]
  },
  {
   "cell_type": "code",
   "execution_count": 221,
   "metadata": {},
   "outputs": [],
   "source": [
    "with conn.cursor() as cur:\n",
    "    sql=\"update `student` set email=%s where id=%s\"\n",
    "    cur.execute(sql,(\"dd@ee.io\",2))\n",
    "\n",
    "conn.commit()"
   ]
  },
  {
   "cell_type": "code",
   "execution_count": 223,
   "metadata": {},
   "outputs": [],
   "source": [
    "with conn.cursor() as cur:\n",
    "    sql ='delete from `Student` where id=%s'\n",
    "    cur.execute(sql,(2))\n",
    "conn.commit()"
   ]
  }
 ],
 "metadata": {
  "kernelspec": {
   "display_name": "pandas",
   "language": "python",
   "name": "python3"
  },
  "language_info": {
   "codemirror_mode": {
    "name": "ipython",
    "version": 3
   },
   "file_extension": ".py",
   "mimetype": "text/x-python",
   "name": "python",
   "nbconvert_exporter": "python",
   "pygments_lexer": "ipython3",
   "version": "3.9.16"
  },
  "orig_nbformat": 4
 },
 "nbformat": 4,
 "nbformat_minor": 2
}
